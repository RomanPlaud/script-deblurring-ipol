{
  "nbformat": 4,
  "nbformat_minor": 0,
  "metadata": {
    "colab": {
      "provenance": [],
      "gpuType": "T4"
    },
    "kernelspec": {
      "name": "python3",
      "display_name": "Python 3"
    },
    "language_info": {
      "name": "python"
    },
    "accelerator": "GPU",
    "gpuClass": "standard"
  },
  "cells": [
    {
      "cell_type": "code",
      "execution_count": 1,
      "metadata": {
        "colab": {
          "base_uri": "https://localhost:8080/"
        },
        "id": "Cc-EPi5QAR3X",
        "outputId": "c3f23451-1313-4aa6-8d49-fbdd9f186e21"
      },
      "outputs": [
        {
          "output_type": "stream",
          "name": "stdout",
          "text": [
            "Cloning into 'script-face-blurring-ipol'...\n",
            "remote: Enumerating objects: 359, done.\u001b[K\n",
            "remote: Counting objects: 100% (138/138), done.\u001b[K\n",
            "remote: Compressing objects: 100% (101/101), done.\u001b[K\n",
            "remote: Total 359 (delta 67), reused 103 (delta 36), pack-reused 221\u001b[K\n",
            "Receiving objects: 100% (359/359), 61.46 MiB | 22.81 MiB/s, done.\n",
            "Resolving deltas: 100% (126/126), done.\n"
          ]
        }
      ],
      "source": [
        "!git clone https://github.com/RomanPlaud/script-face-blurring-ipol.git"
      ]
    },
    {
      "cell_type": "code",
      "source": [
        "%cd /content/script-face-blurring-ipol"
      ],
      "metadata": {
        "colab": {
          "base_uri": "https://localhost:8080/"
        },
        "id": "JbkSBNHuAtkn",
        "outputId": "fed04e70-c928-44a6-dfd3-047cf07f4cfa"
      },
      "execution_count": 2,
      "outputs": [
        {
          "output_type": "stream",
          "name": "stdout",
          "text": [
            "/content/script-face-blurring-ipol\n"
          ]
        }
      ]
    },
    {
      "cell_type": "code",
      "source": [
        "!pip install -r requirements.txt"
      ],
      "metadata": {
        "colab": {
          "base_uri": "https://localhost:8080/",
          "height": 965
        },
        "id": "ps2jQQH3I5pF",
        "outputId": "0751651a-20dc-40c8-f6ca-d2cd7d1039c8"
      },
      "execution_count": 3,
      "outputs": [
        {
          "output_type": "stream",
          "name": "stdout",
          "text": [
            "Looking in indexes: https://pypi.org/simple, https://us-python.pkg.dev/colab-wheels/public/simple/\n",
            "Requirement already satisfied: joblib==1.2.0 in /usr/local/lib/python3.10/dist-packages (from -r requirements.txt (line 1)) (1.2.0)\n",
            "Requirement already satisfied: matplotlib==3.7.1 in /usr/local/lib/python3.10/dist-packages (from -r requirements.txt (line 2)) (3.7.1)\n",
            "Collecting numpy==1.23 (from -r requirements.txt (line 3))\n",
            "  Downloading numpy-1.23.0-cp310-cp310-manylinux_2_17_x86_64.manylinux2014_x86_64.whl (17.0 MB)\n",
            "\u001b[2K     \u001b[90m━━━━━━━━━━━━━━━━━━━━━━━━━━━━━━━━━━━━━━━━\u001b[0m \u001b[32m17.0/17.0 MB\u001b[0m \u001b[31m52.4 MB/s\u001b[0m eta \u001b[36m0:00:00\u001b[0m\n",
            "\u001b[?25hRequirement already satisfied: pandas==1.5.3 in /usr/local/lib/python3.10/dist-packages (from -r requirements.txt (line 4)) (1.5.3)\n",
            "Requirement already satisfied: requests==2.27.1 in /usr/local/lib/python3.10/dist-packages (from -r requirements.txt (line 5)) (2.27.1)\n",
            "Requirement already satisfied: scipy==1.10.1 in /usr/local/lib/python3.10/dist-packages (from -r requirements.txt (line 6)) (1.10.1)\n",
            "Requirement already satisfied: seaborn==0.12.2 in /usr/local/lib/python3.10/dist-packages (from -r requirements.txt (line 7)) (0.12.2)\n",
            "Requirement already satisfied: setuptools==67.7.2 in /usr/local/lib/python3.10/dist-packages (from -r requirements.txt (line 8)) (67.7.2)\n",
            "Collecting thop==0.1.1.post2207130030 (from -r requirements.txt (line 9))\n",
            "  Downloading thop-0.1.1.post2207130030-py3-none-any.whl (15 kB)\n",
            "Requirement already satisfied: torch==2.0.1 in /usr/local/lib/python3.10/dist-packages (from -r requirements.txt (line 10)) (2.0.1+cu118)\n",
            "Requirement already satisfied: torchvision==0.15.2 in /usr/local/lib/python3.10/dist-packages (from -r requirements.txt (line 11)) (0.15.2+cu118)\n",
            "Requirement already satisfied: tqdm==4.65.0 in /usr/local/lib/python3.10/dist-packages (from -r requirements.txt (line 12)) (4.65.0)\n",
            "Requirement already satisfied: contourpy>=1.0.1 in /usr/local/lib/python3.10/dist-packages (from matplotlib==3.7.1->-r requirements.txt (line 2)) (1.0.7)\n",
            "Requirement already satisfied: cycler>=0.10 in /usr/local/lib/python3.10/dist-packages (from matplotlib==3.7.1->-r requirements.txt (line 2)) (0.11.0)\n",
            "Requirement already satisfied: fonttools>=4.22.0 in /usr/local/lib/python3.10/dist-packages (from matplotlib==3.7.1->-r requirements.txt (line 2)) (4.39.3)\n",
            "Requirement already satisfied: kiwisolver>=1.0.1 in /usr/local/lib/python3.10/dist-packages (from matplotlib==3.7.1->-r requirements.txt (line 2)) (1.4.4)\n",
            "Requirement already satisfied: packaging>=20.0 in /usr/local/lib/python3.10/dist-packages (from matplotlib==3.7.1->-r requirements.txt (line 2)) (23.1)\n",
            "Requirement already satisfied: pillow>=6.2.0 in /usr/local/lib/python3.10/dist-packages (from matplotlib==3.7.1->-r requirements.txt (line 2)) (8.4.0)\n",
            "Requirement already satisfied: pyparsing>=2.3.1 in /usr/local/lib/python3.10/dist-packages (from matplotlib==3.7.1->-r requirements.txt (line 2)) (3.0.9)\n",
            "Requirement already satisfied: python-dateutil>=2.7 in /usr/local/lib/python3.10/dist-packages (from matplotlib==3.7.1->-r requirements.txt (line 2)) (2.8.2)\n",
            "Requirement already satisfied: pytz>=2020.1 in /usr/local/lib/python3.10/dist-packages (from pandas==1.5.3->-r requirements.txt (line 4)) (2022.7.1)\n",
            "Requirement already satisfied: urllib3<1.27,>=1.21.1 in /usr/local/lib/python3.10/dist-packages (from requests==2.27.1->-r requirements.txt (line 5)) (1.26.15)\n",
            "Requirement already satisfied: certifi>=2017.4.17 in /usr/local/lib/python3.10/dist-packages (from requests==2.27.1->-r requirements.txt (line 5)) (2022.12.7)\n",
            "Requirement already satisfied: charset-normalizer~=2.0.0 in /usr/local/lib/python3.10/dist-packages (from requests==2.27.1->-r requirements.txt (line 5)) (2.0.12)\n",
            "Requirement already satisfied: idna<4,>=2.5 in /usr/local/lib/python3.10/dist-packages (from requests==2.27.1->-r requirements.txt (line 5)) (3.4)\n",
            "Requirement already satisfied: filelock in /usr/local/lib/python3.10/dist-packages (from torch==2.0.1->-r requirements.txt (line 10)) (3.12.0)\n",
            "Requirement already satisfied: typing-extensions in /usr/local/lib/python3.10/dist-packages (from torch==2.0.1->-r requirements.txt (line 10)) (4.5.0)\n",
            "Requirement already satisfied: sympy in /usr/local/lib/python3.10/dist-packages (from torch==2.0.1->-r requirements.txt (line 10)) (1.11.1)\n",
            "Requirement already satisfied: networkx in /usr/local/lib/python3.10/dist-packages (from torch==2.0.1->-r requirements.txt (line 10)) (3.1)\n",
            "Requirement already satisfied: jinja2 in /usr/local/lib/python3.10/dist-packages (from torch==2.0.1->-r requirements.txt (line 10)) (3.1.2)\n",
            "Requirement already satisfied: triton==2.0.0 in /usr/local/lib/python3.10/dist-packages (from torch==2.0.1->-r requirements.txt (line 10)) (2.0.0)\n",
            "Requirement already satisfied: cmake in /usr/local/lib/python3.10/dist-packages (from triton==2.0.0->torch==2.0.1->-r requirements.txt (line 10)) (3.25.2)\n",
            "Requirement already satisfied: lit in /usr/local/lib/python3.10/dist-packages (from triton==2.0.0->torch==2.0.1->-r requirements.txt (line 10)) (16.0.5)\n",
            "Requirement already satisfied: six>=1.5 in /usr/local/lib/python3.10/dist-packages (from python-dateutil>=2.7->matplotlib==3.7.1->-r requirements.txt (line 2)) (1.16.0)\n",
            "Requirement already satisfied: MarkupSafe>=2.0 in /usr/local/lib/python3.10/dist-packages (from jinja2->torch==2.0.1->-r requirements.txt (line 10)) (2.1.2)\n",
            "Requirement already satisfied: mpmath>=0.19 in /usr/local/lib/python3.10/dist-packages (from sympy->torch==2.0.1->-r requirements.txt (line 10)) (1.3.0)\n",
            "Installing collected packages: numpy, thop\n",
            "  Attempting uninstall: numpy\n",
            "    Found existing installation: numpy 1.22.4\n",
            "    Uninstalling numpy-1.22.4:\n",
            "      Successfully uninstalled numpy-1.22.4\n",
            "Successfully installed numpy-1.23.0 thop-0.1.1.post2207130030\n"
          ]
        },
        {
          "output_type": "display_data",
          "data": {
            "application/vnd.colab-display-data+json": {
              "pip_warning": {
                "packages": [
                  "numpy"
                ]
              }
            }
          },
          "metadata": {}
        }
      ]
    },
    {
      "cell_type": "code",
      "source": [
        "!bash weights/./download_unet.sh"
      ],
      "metadata": {
        "colab": {
          "base_uri": "https://localhost:8080/"
        },
        "id": "LEq7O8VzAyEe",
        "outputId": "5238e4c1-fc49-4c68-f152-332997665a87"
      },
      "execution_count": 4,
      "outputs": [
        {
          "output_type": "stream",
          "name": "stdout",
          "text": [
            "--2023-05-24 08:37:51--  https://docs.google.com/uc?export=download&confirm=t&id=1_j08vKj7rRtBEaeLIviBYmUihzm9G99Q\n",
            "Resolving docs.google.com (docs.google.com)... 108.177.126.100, 108.177.126.101, 108.177.126.139, ...\n",
            "Connecting to docs.google.com (docs.google.com)|108.177.126.100|:443... connected.\n",
            "HTTP request sent, awaiting response... 303 See Other\n",
            "Location: https://doc-14-8o-docs.googleusercontent.com/docs/securesc/ha0ro937gcuc7l7deffksulhg5h7mbp1/9cvrm10oivj0q8m7ddk8i5q3tj65a7f2/1684917450000/12141897933748919341/*/1_j08vKj7rRtBEaeLIviBYmUihzm9G99Q?e=download&uuid=a6d2e4e3-c503-4b2d-a62f-72984c6aed5c [following]\n",
            "Warning: wildcards not supported in HTTP.\n",
            "--2023-05-24 08:37:51--  https://doc-14-8o-docs.googleusercontent.com/docs/securesc/ha0ro937gcuc7l7deffksulhg5h7mbp1/9cvrm10oivj0q8m7ddk8i5q3tj65a7f2/1684917450000/12141897933748919341/*/1_j08vKj7rRtBEaeLIviBYmUihzm9G99Q?e=download&uuid=a6d2e4e3-c503-4b2d-a62f-72984c6aed5c\n",
            "Resolving doc-14-8o-docs.googleusercontent.com (doc-14-8o-docs.googleusercontent.com)... 108.177.127.132, 2a00:1450:4013:c07::84\n",
            "Connecting to doc-14-8o-docs.googleusercontent.com (doc-14-8o-docs.googleusercontent.com)|108.177.127.132|:443... connected.\n",
            "HTTP request sent, awaiting response... 200 OK\n",
            "Length: 797867905 (761M) [application/x-zip]\n",
            "Saving to: ‘weights/deblurring_model.pth’\n",
            "\n",
            "weights/deblurring_ 100%[===================>] 760.91M  45.4MB/s    in 11s     \n",
            "\n",
            "2023-05-24 08:38:02 (71.1 MB/s) - ‘weights/deblurring_model.pth’ saved [797867905/797867905]\n",
            "\n",
            "--2023-05-24 08:38:03--  https://docs.google.com/uc?export=download&confirm=t&id=1re7C8NauZ0NAQoXLWO78tRmVjHhDIvfb\n",
            "Resolving docs.google.com (docs.google.com)... 108.177.126.100, 108.177.126.101, 108.177.126.139, ...\n",
            "Connecting to docs.google.com (docs.google.com)|108.177.126.100|:443... connected.\n",
            "HTTP request sent, awaiting response... 303 See Other\n",
            "Location: https://doc-00-8o-docs.googleusercontent.com/docs/securesc/ha0ro937gcuc7l7deffksulhg5h7mbp1/b734eqdj6k0h873kl8vqf6jamsif2974/1684917450000/12141897933748919341/*/1re7C8NauZ0NAQoXLWO78tRmVjHhDIvfb?e=download&uuid=f051c5b4-17bf-4d58-8cce-0659b73de566 [following]\n",
            "Warning: wildcards not supported in HTTP.\n",
            "--2023-05-24 08:38:03--  https://doc-00-8o-docs.googleusercontent.com/docs/securesc/ha0ro937gcuc7l7deffksulhg5h7mbp1/b734eqdj6k0h873kl8vqf6jamsif2974/1684917450000/12141897933748919341/*/1re7C8NauZ0NAQoXLWO78tRmVjHhDIvfb?e=download&uuid=f051c5b4-17bf-4d58-8cce-0659b73de566\n",
            "Resolving doc-00-8o-docs.googleusercontent.com (doc-00-8o-docs.googleusercontent.com)... 108.177.127.132, 2a00:1450:4013:c07::84\n",
            "Connecting to doc-00-8o-docs.googleusercontent.com (doc-00-8o-docs.googleusercontent.com)|108.177.127.132|:443... connected.\n",
            "HTTP request sent, awaiting response... 200 OK\n",
            "Length: 797867905 (761M) [application/x-zip]\n",
            "Saving to: ‘weights/deblurring_model_v2.pth’\n",
            "\n",
            "weights/deblurring_ 100%[===================>] 760.91M   168MB/s    in 4.5s    \n",
            "\n",
            "2023-05-24 08:38:08 (170 MB/s) - ‘weights/deblurring_model_v2.pth’ saved [797867905/797867905]\n",
            "\n"
          ]
        }
      ]
    },
    {
      "cell_type": "markdown",
      "source": [
        "#### Using Unet on images"
      ],
      "metadata": {
        "id": "lyyFx-L67ENO"
      }
    },
    {
      "cell_type": "code",
      "source": [
        "!python3 main.py \\\n",
        "    --images_folder example_images/ \\\n",
        "    --output_folder output_images_unet/ \\\n",
        "    --device 'cuda' \\\n",
        "    --size_img 512 512 \\\n",
        "    --method 'unet'"
      ],
      "metadata": {
        "id": "RSCv3oai65JK"
      },
      "execution_count": 6,
      "outputs": []
    },
    {
      "cell_type": "markdown",
      "source": [
        "#### Using Yolo on images"
      ],
      "metadata": {
        "id": "2VL2oyuh7XIw"
      }
    },
    {
      "cell_type": "code",
      "source": [
        "!python3 main.py \\\n",
        "    --images_folder example_images/ \\\n",
        "    --output_folder output_images_yolo/ \\\n",
        "    --device 'cuda' \\\n",
        "    --method 'yolo'"
      ],
      "metadata": {
        "colab": {
          "base_uri": "https://localhost:8080/"
        },
        "id": "ebpWnA167UWJ",
        "outputId": "73d0ad43-a66d-47a5-c5b2-efa108251b29"
      },
      "execution_count": 8,
      "outputs": [
        {
          "output_type": "stream",
          "name": "stdout",
          "text": [
            "cuda\n",
            "/content/script-face-blurring-ipol/weights/yolov5n_state_dict.pt\n",
            "WARNING: --img-size 1034 must be multiple of max stride 32, updating to 1056\n",
            "WARNING: --img-size 1538 must be multiple of max stride 32, updating to 1568\n"
          ]
        }
      ]
    },
    {
      "cell_type": "markdown",
      "source": [
        "#### Using Unet on videos"
      ],
      "metadata": {
        "id": "VQzB0Bi872Hh"
      }
    },
    {
      "cell_type": "code",
      "source": [
        "!python3 main.py \\\n",
        "    --mode_video True \\\n",
        "    --video_path example_videos/vid_example.mp4 \\\n",
        "    --output_folder output_video_unet/ \\\n",
        "    --device 'cuda' \\\n",
        "    --size_img 512 512 \\\n",
        "    --method 'unet'"
      ],
      "metadata": {
        "colab": {
          "base_uri": "https://localhost:8080/"
        },
        "id": "u6-Rp3ZO71jh",
        "outputId": "27add2d5-fca7-4873-ee3a-5c1a9b228fea"
      },
      "execution_count": 9,
      "outputs": [
        {
          "output_type": "stream",
          "name": "stdout",
          "text": [
            "100% 136/136 [00:47<00:00,  2.88it/s]\n"
          ]
        }
      ]
    },
    {
      "cell_type": "markdown",
      "source": [
        "#### Using Yolo on videos"
      ],
      "metadata": {
        "id": "3S48ATLh8J1c"
      }
    },
    {
      "cell_type": "code",
      "source": [
        "!python3 main.py \\\n",
        "    --mode_video True \\\n",
        "    --video_path example_videos/vid_example.mp4 \\\n",
        "    --output_folder output_video_yolo/ \\\n",
        "    --device 'cuda' \\\n",
        "    --method 'yolo'"
      ],
      "metadata": {
        "id": "CAjgoG-yIglD",
        "colab": {
          "base_uri": "https://localhost:8080/"
        },
        "outputId": "abecc3ea-5513-4a0c-fc53-e4f9ed68a554"
      },
      "execution_count": 10,
      "outputs": [
        {
          "output_type": "stream",
          "name": "stdout",
          "text": [
            "cuda\n",
            "/content/script-face-blurring-ipol/weights/yolov5n_state_dict.pt\n",
            "100% 136/136 [00:21<00:00,  6.20it/s]\n"
          ]
        }
      ]
    }
  ]
}